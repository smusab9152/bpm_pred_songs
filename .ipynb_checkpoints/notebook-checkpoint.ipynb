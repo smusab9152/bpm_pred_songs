{
 "cells": [
  {
   "cell_type": "markdown",
   "id": "8f84f273-4c4a-4a67-8dc2-3a459099402d",
   "metadata": {
    "jp-MarkdownHeadingCollapsed": true
   },
   "source": [
    "### Problem Statement: Predicting Beats per Minutes in a song.\n",
    "Algorithm used: Linear Regression. L1 and L2, SVR , KNN Regresor, Random Forest , Feed-Forward Neural Network, CNN , Gradient Boosting and Stacking"
   ]
  },
  {
   "cell_type": "markdown",
   "id": "9f83e826-6898-4b5d-9792-b070579a4c7c",
   "metadata": {},
   "source": [
    "## Importing Libraries and Datasets"
   ]
  },
  {
   "cell_type": "code",
   "execution_count": 106,
   "id": "acc0c22e-a0be-4afe-a49b-3e3ac1e355f0",
   "metadata": {},
   "outputs": [],
   "source": [
    "#Import libraries\n",
    "import pandas as pd\n",
    "import numpy as np\n",
    "import matplotlib.pyplot as plt\n",
    "from sklearn.model_selection import train_test_split\n",
    "from sklearn.preprocessing import StandardScaler, PowerTransformer\n",
    "from sklearn.linear_model import LinearRegression\n",
    "from sklearn.metrics import r2_score ,mean_squared_error,mean_absolute_error\n",
    "from scipy import stats"
   ]
  },
  {
   "cell_type": "code",
   "execution_count": 4,
   "id": "9cd5e00b-e776-4dfc-8a08-f52d0b4761a1",
   "metadata": {},
   "outputs": [],
   "source": [
    "#Loading datasets\n",
    "train_data = pd.read_csv(\"datasets/train.csv\")\n",
    "test_data = pd.read_csv(\"datasets/test.csv\")"
   ]
  },
  {
   "cell_type": "code",
   "execution_count": 5,
   "id": "af9c87fa-bb02-41b5-b1a0-6f445a017a42",
   "metadata": {},
   "outputs": [],
   "source": [
    "train_data = train_data.drop(columns = ['id'])\n",
    "test_data = test_data.drop(columns = ['id'])"
   ]
  },
  {
   "cell_type": "markdown",
   "id": "cfcc052c-f0c7-436e-b00d-fd504df27d26",
   "metadata": {},
   "source": [
    "## Train Data Preprocessing"
   ]
  },
  {
   "cell_type": "code",
   "execution_count": 109,
   "id": "d2c0c59f-9b25-4819-91c3-fa8bd8e55314",
   "metadata": {},
   "outputs": [
    {
     "name": "stdout",
     "output_type": "stream",
     "text": [
      "<class 'pandas.core.frame.DataFrame'>\n",
      "RangeIndex: 524164 entries, 0 to 524163\n",
      "Data columns (total 9 columns):\n",
      " #   Column                     Non-Null Count   Dtype  \n",
      "---  ------                     --------------   -----  \n",
      " 0   RhythmScore                524164 non-null  float64\n",
      " 1   VocalContent               524164 non-null  float64\n",
      " 2   AcousticQuality            524164 non-null  float64\n",
      " 3   InstrumentalScore          524164 non-null  float64\n",
      " 4   LivePerformanceLikelihood  524164 non-null  float64\n",
      " 5   MoodScore                  524164 non-null  float64\n",
      " 6   TrackDurationMs            524164 non-null  float64\n",
      " 7   Energy                     524164 non-null  float64\n",
      " 8   BeatsPerMinute             524164 non-null  float64\n",
      "dtypes: float64(9)\n",
      "memory usage: 36.0 MB\n"
     ]
    }
   ],
   "source": [
    "#Checking info of train data\n",
    "train_data.info()"
   ]
  },
  {
   "cell_type": "code",
   "execution_count": 7,
   "id": "f3908cc0-e78b-485a-94b0-bdccdaa0a876",
   "metadata": {},
   "outputs": [
    {
     "data": {
      "text/plain": [
       "RhythmScore                  0\n",
       "AudioLoudness                0\n",
       "VocalContent                 0\n",
       "AcousticQuality              0\n",
       "InstrumentalScore            0\n",
       "LivePerformanceLikelihood    0\n",
       "MoodScore                    0\n",
       "TrackDurationMs              0\n",
       "Energy                       0\n",
       "BeatsPerMinute               0\n",
       "dtype: int64"
      ]
     },
     "execution_count": 7,
     "metadata": {},
     "output_type": "execute_result"
    }
   ],
   "source": [
    "#checking null entries\n",
    "train_data.isna().sum()"
   ]
  },
  {
   "cell_type": "code",
   "execution_count": 8,
   "id": "d8fbacf2-f187-412b-8bb6-eed83104dc05",
   "metadata": {},
   "outputs": [
    {
     "data": {
      "text/html": [
       "<div>\n",
       "<style scoped>\n",
       "    .dataframe tbody tr th:only-of-type {\n",
       "        vertical-align: middle;\n",
       "    }\n",
       "\n",
       "    .dataframe tbody tr th {\n",
       "        vertical-align: top;\n",
       "    }\n",
       "\n",
       "    .dataframe thead th {\n",
       "        text-align: right;\n",
       "    }\n",
       "</style>\n",
       "<table border=\"1\" class=\"dataframe\">\n",
       "  <thead>\n",
       "    <tr style=\"text-align: right;\">\n",
       "      <th></th>\n",
       "      <th>RhythmScore</th>\n",
       "      <th>AudioLoudness</th>\n",
       "      <th>VocalContent</th>\n",
       "      <th>AcousticQuality</th>\n",
       "      <th>InstrumentalScore</th>\n",
       "      <th>LivePerformanceLikelihood</th>\n",
       "      <th>MoodScore</th>\n",
       "      <th>TrackDurationMs</th>\n",
       "      <th>Energy</th>\n",
       "      <th>BeatsPerMinute</th>\n",
       "    </tr>\n",
       "  </thead>\n",
       "  <tbody>\n",
       "    <tr>\n",
       "      <th>0</th>\n",
       "      <td>0.603610</td>\n",
       "      <td>-7.636942</td>\n",
       "      <td>0.023500</td>\n",
       "      <td>0.000005</td>\n",
       "      <td>0.000001</td>\n",
       "      <td>0.051385</td>\n",
       "      <td>0.409866</td>\n",
       "      <td>290715.6450</td>\n",
       "      <td>0.826267</td>\n",
       "      <td>147.53020</td>\n",
       "    </tr>\n",
       "    <tr>\n",
       "      <th>1</th>\n",
       "      <td>0.639451</td>\n",
       "      <td>-16.267598</td>\n",
       "      <td>0.071520</td>\n",
       "      <td>0.444929</td>\n",
       "      <td>0.349414</td>\n",
       "      <td>0.170522</td>\n",
       "      <td>0.651010</td>\n",
       "      <td>164519.5174</td>\n",
       "      <td>0.145400</td>\n",
       "      <td>136.15963</td>\n",
       "    </tr>\n",
       "    <tr>\n",
       "      <th>2</th>\n",
       "      <td>0.514538</td>\n",
       "      <td>-15.953575</td>\n",
       "      <td>0.110715</td>\n",
       "      <td>0.173699</td>\n",
       "      <td>0.453814</td>\n",
       "      <td>0.029576</td>\n",
       "      <td>0.423865</td>\n",
       "      <td>174495.5667</td>\n",
       "      <td>0.624667</td>\n",
       "      <td>55.31989</td>\n",
       "    </tr>\n",
       "    <tr>\n",
       "      <th>3</th>\n",
       "      <td>0.734463</td>\n",
       "      <td>-1.357000</td>\n",
       "      <td>0.052965</td>\n",
       "      <td>0.001651</td>\n",
       "      <td>0.159717</td>\n",
       "      <td>0.086366</td>\n",
       "      <td>0.278745</td>\n",
       "      <td>225567.4651</td>\n",
       "      <td>0.487467</td>\n",
       "      <td>147.91212</td>\n",
       "    </tr>\n",
       "    <tr>\n",
       "      <th>4</th>\n",
       "      <td>0.532968</td>\n",
       "      <td>-13.056437</td>\n",
       "      <td>0.023500</td>\n",
       "      <td>0.068687</td>\n",
       "      <td>0.000001</td>\n",
       "      <td>0.331345</td>\n",
       "      <td>0.477769</td>\n",
       "      <td>213960.6789</td>\n",
       "      <td>0.947333</td>\n",
       "      <td>89.58511</td>\n",
       "    </tr>\n",
       "  </tbody>\n",
       "</table>\n",
       "</div>"
      ],
      "text/plain": [
       "   RhythmScore  AudioLoudness  VocalContent  AcousticQuality  \\\n",
       "0     0.603610      -7.636942      0.023500         0.000005   \n",
       "1     0.639451     -16.267598      0.071520         0.444929   \n",
       "2     0.514538     -15.953575      0.110715         0.173699   \n",
       "3     0.734463      -1.357000      0.052965         0.001651   \n",
       "4     0.532968     -13.056437      0.023500         0.068687   \n",
       "\n",
       "   InstrumentalScore  LivePerformanceLikelihood  MoodScore  TrackDurationMs  \\\n",
       "0           0.000001                   0.051385   0.409866      290715.6450   \n",
       "1           0.349414                   0.170522   0.651010      164519.5174   \n",
       "2           0.453814                   0.029576   0.423865      174495.5667   \n",
       "3           0.159717                   0.086366   0.278745      225567.4651   \n",
       "4           0.000001                   0.331345   0.477769      213960.6789   \n",
       "\n",
       "     Energy  BeatsPerMinute  \n",
       "0  0.826267       147.53020  \n",
       "1  0.145400       136.15963  \n",
       "2  0.624667        55.31989  \n",
       "3  0.487467       147.91212  \n",
       "4  0.947333        89.58511  "
      ]
     },
     "execution_count": 8,
     "metadata": {},
     "output_type": "execute_result"
    }
   ],
   "source": [
    "train_data.head()"
   ]
  },
  {
   "cell_type": "code",
   "execution_count": 9,
   "id": "cb1d7d99-2dcc-4d0a-a4f5-e597f7e9b385",
   "metadata": {},
   "outputs": [
    {
     "name": "stdout",
     "output_type": "stream",
     "text": [
      "Max Beats: 206.037 \n",
      "Min Beats: 46.718\n"
     ]
    }
   ],
   "source": [
    "#Checking Maximum and Minimum of the y variable\n",
    "max_beats = train_data[\"BeatsPerMinute\"].max()\n",
    "min_beats = train_data[\"BeatsPerMinute\"].min()\n",
    "\n",
    "print(f\"Max Beats: {max_beats} \\n\" f\"Min Beats: {min_beats}\")"
   ]
  },
  {
   "cell_type": "code",
   "execution_count": 10,
   "id": "dbbc3a14-92ee-48d1-8d91-5d78b0c45dac",
   "metadata": {},
   "outputs": [
    {
     "data": {
      "text/plain": [
       "Index(['RhythmScore', 'AudioLoudness', 'VocalContent', 'AcousticQuality',\n",
       "       'InstrumentalScore', 'LivePerformanceLikelihood', 'MoodScore',\n",
       "       'TrackDurationMs', 'Energy', 'BeatsPerMinute'],\n",
       "      dtype='object')"
      ]
     },
     "execution_count": 10,
     "metadata": {},
     "output_type": "execute_result"
    }
   ],
   "source": [
    "#cxheaking column names\n",
    "train_data.columns"
   ]
  },
  {
   "cell_type": "code",
   "execution_count": 11,
   "id": "442e85e7-66e8-4995-b05a-f2ac577f623e",
   "metadata": {},
   "outputs": [
    {
     "name": "stdout",
     "output_type": "stream",
     "text": [
      "Max Values: \n",
      "RhythmScore                       0.975000\n",
      "AudioLoudness                    -1.357000\n",
      "VocalContent                      0.256401\n",
      "AcousticQuality                   0.995000\n",
      "InstrumentalScore                 0.869258\n",
      "LivePerformanceLikelihood         0.599924\n",
      "MoodScore                         0.978000\n",
      "TrackDurationMs              464723.228100\n",
      "Energy                            1.000000\n",
      "BeatsPerMinute                  206.037000\n",
      "dtype: float64\n",
      " \n",
      "Min Value \n",
      "RhythmScore                      0.076900\n",
      "AudioLoudness                  -27.509725\n",
      "VocalContent                     0.023500\n",
      "AcousticQuality                  0.000005\n",
      "InstrumentalScore                0.000001\n",
      "LivePerformanceLikelihood        0.024300\n",
      "MoodScore                        0.025600\n",
      "TrackDurationMs              63973.000000\n",
      "Energy                           0.000067\n",
      "BeatsPerMinute                  46.718000\n",
      "dtype: float64\n"
     ]
    }
   ],
   "source": [
    "#Max and Min values of the each column\n",
    "columns = train_data.columns\n",
    "train_data_max_value = train_data[columns].max()\n",
    "train_data_min_value = train_data[columns].min()\n",
    "print(f\"Max Values: \\n{train_data_max_value}\\n\",f\"\\nMin Value \\n{train_data_min_value}\")"
   ]
  },
  {
   "cell_type": "code",
   "execution_count": 130,
   "id": "34c17e01-afe2-451e-a4aa-694fdbfa2c40",
   "metadata": {
    "scrolled": true
   },
   "outputs": [
    {
     "data": {
      "image/png": "[encoded data removed]",
      "text/plain": [
       "<Figure size 640x480 with 1 Axes>"
      ]
     },
     "metadata": {},
     "output_type": "display_data"
    },
    {
     "data": {
      "image/png": "[encoded data removed]",
      "text/plain": [
       "<Figure size 640x480 with 1 Axes>"
      ]
     },
     "metadata": {},
     "output_type": "display_data"
    },
    {
     "data": {
      "image/png": "[encoded data removed]",
      "text/plain": [
       "<Figure size 640x480 with 1 Axes>"
      ]
     },
     "metadata": {},
     "output_type": "display_data"
    }
   ],
   "source": [
    "#checking data distribution\n",
    "skewed_features = train_data[['VocalContent', 'AcousticQuality', 'InstrumentalScore']]\n",
    "for columns in skewed_features:\n",
    "    plt.figure()\n",
    "    train_data[columns].hist()\n",
    "    plt.xlabel(columns)\n",
    "plt.show()"
   ]
  },
  {
   "cell_type": "code",
   "execution_count": 131,
   "id": "23dc11da-40bb-4947-ac8a-a39d8bc71937",
   "metadata": {},
   "outputs": [],
   "source": [
    "reflected_data = train_data.copy()"
   ]
  },
  {
   "cell_type": "code",
   "execution_count": 132,
   "id": "4b4245bf-e232-455a-8617-15d5ae794650",
   "metadata": {
    "scrolled": true
   },
   "outputs": [
    {
     "data": {
      "image/png": "[encoded data removed]",
      "text/plain": [
       "<Figure size 640x480 with 1 Axes>"
      ]
     },
     "metadata": {},
     "output_type": "display_data"
    },
    {
     "data": {
      "image/png": "[encoded data removed]",
      "text/plain": [
       "<Figure size 640x480 with 1 Axes>"
      ]
     },
     "metadata": {},
     "output_type": "display_data"
    },
    {
     "data": {
      "image/png": "[encoded data removed]",
      "text/plain": [
       "<Figure size 640x480 with 1 Axes>"
      ]
     },
     "metadata": {},
     "output_type": "display_data"
    }
   ],
   "source": [
    "for col in skewed_features:\n",
    "    # Find the maximum value of the column\n",
    "    max_val = reflected_data[col].max()\n",
    "    # Reflect the column using the formula: (max + 1) - x\n",
    "    reflected_data[col] = (max_val + 1) - reflected_data[col]\n",
    "    plt.figure()\n",
    "    reflected_data[cols].hist(bins=50)\n",
    "    plt.title(col)\n",
    "    plt.show()\n",
    "\n"
   ]
  },
  {
   "cell_type": "code",
   "execution_count": 110,
   "id": "23c20ba6-c16f-4ae5-bc9f-12e1cb17a9b5",
   "metadata": {
    "scrolled": true
   },
   "outputs": [],
   "source": [
    "# for cols in skewed_features:\n",
    "#     transformed_data, optimal_lambda = stats.boxcox(train_data[cols]+ 1)\n",
    "#     plt.figure()\n",
    "#     plt.hist(transformed_data)\n",
    "#     plt.xlabel(cols)\n",
    "# plt.show()"
   ]
  },
  {
   "cell_type": "code",
   "execution_count": null,
   "id": "58e2c58a-ee27-4767-84ab-a1accd0f45dc",
   "metadata": {},
   "outputs": [],
   "source": [
    "#Max and Min values of the each column\n",
    "columns = train_data.columns\n",
    "train_data_max_value = train_data[columns].max()\n",
    "train_data_min_value = train_data[columns].min()\n",
    "print(f\"Max Values: \\n{train_data_max_value}\\n\",f\"\\nMin Value \\n{train_data_min_value}\")"
   ]
  },
  {
   "cell_type": "code",
   "execution_count": 14,
   "id": "3fffcd30-d6cd-470b-a9c0-55b9555621bb",
   "metadata": {},
   "outputs": [],
   "source": [
    "train_data  = train_data.drop(columns = [\"AudioLoudness\"])"
   ]
  },
  {
   "cell_type": "code",
   "execution_count": 15,
   "id": "39cc8a48-f8d7-4fa2-a51b-7cf14870a602",
   "metadata": {
    "scrolled": true
   },
   "outputs": [
    {
     "name": "stdout",
     "output_type": "stream",
     "text": [
      "(524164, 8) (524164, 1)\n"
     ]
    }
   ],
   "source": [
    "#Splitting dataset X and y\n",
    "X_train = train_data.iloc[:,:-1]\n",
    "y_train = train_data.iloc[:,:1]\n",
    "print(X_train.shape,y_train.shape)"
   ]
  },
  {
   "cell_type": "code",
   "execution_count": 16,
   "id": "df813b17-9f4d-47ef-b526-46d874225ae1",
   "metadata": {},
   "outputs": [
    {
     "data": {
      "text/plain": [
       "((419331, 8), (104833, 8), (419331, 1), (104833, 1))"
      ]
     },
     "execution_count": 16,
     "metadata": {},
     "output_type": "execute_result"
    }
   ],
   "source": [
    "#Splitying training dataset into training and validation dataset\n",
    "X_train,x_val,y_train,y_val = train_test_split(X_train,y_train, test_size = 0.2, random_state =42) \n",
    "X_train.shape,x_val.shape,y_train.shape,y_val.shape"
   ]
  },
  {
   "cell_type": "code",
   "execution_count": 17,
   "id": "662f79aa-d6af-49d6-9c55-8e7d847816d4",
   "metadata": {},
   "outputs": [
    {
     "data": {
      "text/html": [
       "<style>#sk-container-id-1 {color: black;}#sk-container-id-1 pre{padding: 0;}#sk-container-id-1 div.sk-toggleable {background-color: white;}#sk-container-id-1 label.sk-toggleable__label {cursor: pointer;display: block;width: 100%;margin-bottom: 0;padding: 0.3em;box-sizing: border-box;text-align: center;}#sk-container-id-1 label.sk-toggleable__label-arrow:before {content: \"▸\";float: left;margin-right: 0.25em;color: #696969;}#sk-container-id-1 label.sk-toggleable__label-arrow:hover:before {color: black;}#sk-container-id-1 div.sk-estimator:hover label.sk-toggleable__label-arrow:before {color: black;}#sk-container-id-1 div.sk-toggleable__content {max-height: 0;max-width: 0;overflow: hidden;text-align: left;background-color: #f0f8ff;}#sk-container-id-1 div.sk-toggleable__content pre {margin: 0.2em;color: black;border-radius: 0.25em;background-color: #f0f8ff;}#sk-container-id-1 input.sk-toggleable__control:checked~div.sk-toggleable__content {max-height: 200px;max-width: 100%;overflow: auto;}#sk-container-id-1 input.sk-toggleable__control:checked~label.sk-toggleable__label-arrow:before {content: \"▾\";}#sk-container-id-1 div.sk-estimator input.sk-toggleable__control:checked~label.sk-toggleable__label {background-color: #d4ebff;}#sk-container-id-1 div.sk-label input.sk-toggleable__control:checked~label.sk-toggleable__label {background-color: #d4ebff;}#sk-container-id-1 input.sk-hidden--visually {border: 0;clip: rect(1px 1px 1px 1px);clip: rect(1px, 1px, 1px, 1px);height: 1px;margin: -1px;overflow: hidden;padding: 0;position: absolute;width: 1px;}#sk-container-id-1 div.sk-estimator {font-family: monospace;background-color: #f0f8ff;border: 1px dotted black;border-radius: 0.25em;box-sizing: border-box;margin-bottom: 0.5em;}#sk-container-id-1 div.sk-estimator:hover {background-color: #d4ebff;}#sk-container-id-1 div.sk-parallel-item::after {content: \"\";width: 100%;border-bottom: 1px solid gray;flex-grow: 1;}#sk-container-id-1 div.sk-label:hover label.sk-toggleable__label {background-color: #d4ebff;}#sk-container-id-1 div.sk-serial::before {content: \"\";position: absolute;border-left: 1px solid gray;box-sizing: border-box;top: 0;bottom: 0;left: 50%;z-index: 0;}#sk-container-id-1 div.sk-serial {display: flex;flex-direction: column;align-items: center;background-color: white;padding-right: 0.2em;padding-left: 0.2em;position: relative;}#sk-container-id-1 div.sk-item {position: relative;z-index: 1;}#sk-container-id-1 div.sk-parallel {display: flex;align-items: stretch;justify-content: center;background-color: white;position: relative;}#sk-container-id-1 div.sk-item::before, #sk-container-id-1 div.sk-parallel-item::before {content: \"\";position: absolute;border-left: 1px solid gray;box-sizing: border-box;top: 0;bottom: 0;left: 50%;z-index: -1;}#sk-container-id-1 div.sk-parallel-item {display: flex;flex-direction: column;z-index: 1;position: relative;background-color: white;}#sk-container-id-1 div.sk-parallel-item:first-child::after {align-self: flex-end;width: 50%;}#sk-container-id-1 div.sk-parallel-item:last-child::after {align-self: flex-start;width: 50%;}#sk-container-id-1 div.sk-parallel-item:only-child::after {width: 0;}#sk-container-id-1 div.sk-dashed-wrapped {border: 1px dashed gray;margin: 0 0.4em 0.5em 0.4em;box-sizing: border-box;padding-bottom: 0.4em;background-color: white;}#sk-container-id-1 div.sk-label label {font-family: monospace;font-weight: bold;display: inline-block;line-height: 1.2em;}#sk-container-id-1 div.sk-label-container {text-align: center;}#sk-container-id-1 div.sk-container {/* jupyter's `normalize.less` sets `[hidden] { display: none; }` but bootstrap.min.css set `[hidden] { display: none !important; }` so we also need the `!important` here to be able to override the default hidden behavior on the sphinx rendered scikit-learn.org. See: https://github.com/scikit-learn/scikit-learn/issues/21755 */display: inline-block !important;position: relative;}#sk-container-id-1 div.sk-text-repr-fallback {display: none;}</style><div id=\"sk-container-id-1\" class=\"sk-top-container\"><div class=\"sk-text-repr-fallback\"><pre>StandardScaler()</pre><b>In a Jupyter environment, please rerun this cell to show the HTML representation or trust the notebook. <br />On GitHub, the HTML representation is unable to render, please try loading this page with nbviewer.org.</b></div><div class=\"sk-container\" hidden><div class=\"sk-item\"><div class=\"sk-estimator sk-toggleable\"><input class=\"sk-toggleable__control sk-hidden--visually\" id=\"sk-estimator-id-1\" type=\"checkbox\" checked><label for=\"sk-estimator-id-1\" class=\"sk-toggleable__label sk-toggleable__label-arrow\">StandardScaler</label><div class=\"sk-toggleable__content\"><pre>StandardScaler()</pre></div></div></div></div></div>"
      ],
      "text/plain": [
       "StandardScaler()"
      ]
     },
     "execution_count": 17,
     "metadata": {},
     "output_type": "execute_result"
    }
   ],
   "source": [
    "#Standard Scaler\n",
    "st = StandardScaler()\n",
    "st"
   ]
  },
  {
   "cell_type": "code",
   "execution_count": 285,
   "id": "ce8bdac7-ec78-40cd-bac3-c04768af70b6",
   "metadata": {},
   "outputs": [],
   "source": [
    "scaled_X_train = st.fit_transform(X_train)\n",
    "scaled_x_val = st.fit_transform(x_val)"
   ]
  },
  {
   "cell_type": "code",
   "execution_count": 79,
   "id": "ea015fc7-0b7d-44df-b621-0e5faf06b05e",
   "metadata": {},
   "outputs": [
    {
     "data": {
      "text/plain": [
       "((419331, 8), (104833, 8))"
      ]
     },
     "execution_count": 79,
     "metadata": {},
     "output_type": "execute_result"
    }
   ],
   "source": [
    "scaled_X_train = st.fit_transform(X_train)\n",
    "scaled_x_val = st.fit_transform(x_val)\n",
    "scaled_X_train.shape,scaled_x_val.shape"
   ]
  },
  {
   "cell_type": "markdown",
   "id": "ed2b1da9-27f2-49ae-afc9-c41b52cc9288",
   "metadata": {},
   "source": [
    "## Test Data Processing"
   ]
  },
  {
   "cell_type": "code",
   "execution_count": 18,
   "id": "928b6763-07a5-4234-8ac8-f5ff0775678a",
   "metadata": {},
   "outputs": [
    {
     "name": "stdout",
     "output_type": "stream",
     "text": [
      "<class 'pandas.core.frame.DataFrame'>\n",
      "RangeIndex: 174722 entries, 0 to 174721\n",
      "Data columns (total 9 columns):\n",
      " #   Column                     Non-Null Count   Dtype  \n",
      "---  ------                     --------------   -----  \n",
      " 0   RhythmScore                174722 non-null  float64\n",
      " 1   AudioLoudness              174722 non-null  float64\n",
      " 2   VocalContent               174722 non-null  float64\n",
      " 3   AcousticQuality            174722 non-null  float64\n",
      " 4   InstrumentalScore          174722 non-null  float64\n",
      " 5   LivePerformanceLikelihood  174722 non-null  float64\n",
      " 6   MoodScore                  174722 non-null  float64\n",
      " 7   TrackDurationMs            174722 non-null  float64\n",
      " 8   Energy                     174722 non-null  float64\n",
      "dtypes: float64(9)\n",
      "memory usage: 12.0 MB\n"
     ]
    }
   ],
   "source": [
    "#Checking test data\n",
    "test_data.info()"
   ]
  },
  {
   "cell_type": "code",
   "execution_count": 19,
   "id": "4126e9aa-d659-4911-b5ff-3566eda421cf",
   "metadata": {},
   "outputs": [
    {
     "data": {
      "text/plain": [
       "RhythmScore                  0\n",
       "AudioLoudness                0\n",
       "VocalContent                 0\n",
       "AcousticQuality              0\n",
       "InstrumentalScore            0\n",
       "LivePerformanceLikelihood    0\n",
       "MoodScore                    0\n",
       "TrackDurationMs              0\n",
       "Energy                       0\n",
       "dtype: int64"
      ]
     },
     "execution_count": 19,
     "metadata": {},
     "output_type": "execute_result"
    }
   ],
   "source": [
    "#checking test data null entries\n",
    "test_data.isna().sum()"
   ]
  },
  {
   "cell_type": "code",
   "execution_count": 20,
   "id": "c7205d7b-92ee-4022-9a83-e4a1729623e2",
   "metadata": {},
   "outputs": [
    {
     "data": {
      "text/html": [
       "<div>\n",
       "<style scoped>\n",
       "    .dataframe tbody tr th:only-of-type {\n",
       "        vertical-align: middle;\n",
       "    }\n",
       "\n",
       "    .dataframe tbody tr th {\n",
       "        vertical-align: top;\n",
       "    }\n",
       "\n",
       "    .dataframe thead th {\n",
       "        text-align: right;\n",
       "    }\n",
       "</style>\n",
       "<table border=\"1\" class=\"dataframe\">\n",
       "  <thead>\n",
       "    <tr style=\"text-align: right;\">\n",
       "      <th></th>\n",
       "      <th>RhythmScore</th>\n",
       "      <th>AudioLoudness</th>\n",
       "      <th>VocalContent</th>\n",
       "      <th>AcousticQuality</th>\n",
       "      <th>InstrumentalScore</th>\n",
       "      <th>LivePerformanceLikelihood</th>\n",
       "      <th>MoodScore</th>\n",
       "      <th>TrackDurationMs</th>\n",
       "      <th>Energy</th>\n",
       "    </tr>\n",
       "  </thead>\n",
       "  <tbody>\n",
       "    <tr>\n",
       "      <th>0</th>\n",
       "      <td>0.410013</td>\n",
       "      <td>-16.794967</td>\n",
       "      <td>0.023500</td>\n",
       "      <td>0.232910</td>\n",
       "      <td>0.012689</td>\n",
       "      <td>0.271585</td>\n",
       "      <td>0.664321</td>\n",
       "      <td>302901.5498</td>\n",
       "      <td>0.424867</td>\n",
       "    </tr>\n",
       "    <tr>\n",
       "      <th>1</th>\n",
       "      <td>0.463071</td>\n",
       "      <td>-1.357000</td>\n",
       "      <td>0.141818</td>\n",
       "      <td>0.057725</td>\n",
       "      <td>0.257942</td>\n",
       "      <td>0.097624</td>\n",
       "      <td>0.829552</td>\n",
       "      <td>221995.6643</td>\n",
       "      <td>0.846000</td>\n",
       "    </tr>\n",
       "    <tr>\n",
       "      <th>2</th>\n",
       "      <td>0.686569</td>\n",
       "      <td>-3.368928</td>\n",
       "      <td>0.167851</td>\n",
       "      <td>0.287823</td>\n",
       "      <td>0.210915</td>\n",
       "      <td>0.325909</td>\n",
       "      <td>0.304978</td>\n",
       "      <td>357724.0127</td>\n",
       "      <td>0.134067</td>\n",
       "    </tr>\n",
       "    <tr>\n",
       "      <th>3</th>\n",
       "      <td>0.885793</td>\n",
       "      <td>-5.598049</td>\n",
       "      <td>0.118488</td>\n",
       "      <td>0.000005</td>\n",
       "      <td>0.376906</td>\n",
       "      <td>0.134435</td>\n",
       "      <td>0.487740</td>\n",
       "      <td>271790.3989</td>\n",
       "      <td>0.316467</td>\n",
       "    </tr>\n",
       "    <tr>\n",
       "      <th>4</th>\n",
       "      <td>0.637391</td>\n",
       "      <td>-7.068160</td>\n",
       "      <td>0.126099</td>\n",
       "      <td>0.539073</td>\n",
       "      <td>0.068950</td>\n",
       "      <td>0.024300</td>\n",
       "      <td>0.591248</td>\n",
       "      <td>277728.5383</td>\n",
       "      <td>0.481067</td>\n",
       "    </tr>\n",
       "  </tbody>\n",
       "</table>\n",
       "</div>"
      ],
      "text/plain": [
       "   RhythmScore  AudioLoudness  VocalContent  AcousticQuality  \\\n",
       "0     0.410013     -16.794967      0.023500         0.232910   \n",
       "1     0.463071      -1.357000      0.141818         0.057725   \n",
       "2     0.686569      -3.368928      0.167851         0.287823   \n",
       "3     0.885793      -5.598049      0.118488         0.000005   \n",
       "4     0.637391      -7.068160      0.126099         0.539073   \n",
       "\n",
       "   InstrumentalScore  LivePerformanceLikelihood  MoodScore  TrackDurationMs  \\\n",
       "0           0.012689                   0.271585   0.664321      302901.5498   \n",
       "1           0.257942                   0.097624   0.829552      221995.6643   \n",
       "2           0.210915                   0.325909   0.304978      357724.0127   \n",
       "3           0.376906                   0.134435   0.487740      271790.3989   \n",
       "4           0.068950                   0.024300   0.591248      277728.5383   \n",
       "\n",
       "     Energy  \n",
       "0  0.424867  \n",
       "1  0.846000  \n",
       "2  0.134067  \n",
       "3  0.316467  \n",
       "4  0.481067  "
      ]
     },
     "execution_count": 20,
     "metadata": {},
     "output_type": "execute_result"
    }
   ],
   "source": [
    "test_data.head()"
   ]
  },
  {
   "cell_type": "code",
   "execution_count": 21,
   "id": "cb4f899c-9d10-432b-a7e3-5a2675ab8e1a",
   "metadata": {},
   "outputs": [
    {
     "name": "stdout",
     "output_type": "stream",
     "text": [
      "Max Beats:\n",
      "RhythmScore                       0.975000\n",
      "AudioLoudness                    -1.357000\n",
      "VocalContent                      0.258857\n",
      "AcousticQuality                   0.995000\n",
      "InstrumentalScore                 0.680914\n",
      "LivePerformanceLikelihood         0.599544\n",
      "MoodScore                         0.978000\n",
      "TrackDurationMs              449288.808400\n",
      "Energy                            0.999867\n",
      "dtype: float64 \n",
      "\n",
      "Min Beats: \n",
      "RhythmScore                      0.140859\n",
      "AudioLoudness                  -27.442731\n",
      "VocalContent                     0.023500\n",
      "AcousticQuality                  0.000005\n",
      "InstrumentalScore                0.000001\n",
      "LivePerformanceLikelihood        0.024300\n",
      "MoodScore                        0.025600\n",
      "TrackDurationMs              63973.000000\n",
      "Energy                           0.000067\n",
      "dtype: float64\n"
     ]
    }
   ],
   "source": [
    "#Checking Maximum and Minimum of the y variable\n",
    "cols = test_data.columns\n",
    "max_beats = test_data[cols].max()\n",
    "min_beats = test_data[cols].min()\n",
    "\n",
    "print(f\"Max Beats:\\n{max_beats} \\n\" f\"\\nMin Beats: \\n{min_beats}\")"
   ]
  },
  {
   "cell_type": "code",
   "execution_count": 50,
   "id": "ad1d9499-2a12-4182-a093-6a7084941456",
   "metadata": {},
   "outputs": [],
   "source": [
    "test_data = test_data.drop(columns = [\"AudioLoudness\"])"
   ]
  },
  {
   "cell_type": "markdown",
   "id": "ef0b8d64-a77d-4f2b-bbe0-495555341be8",
   "metadata": {
    "jp-MarkdownHeadingCollapsed": true
   },
   "source": [
    "## Multi Linear Regression Model"
   ]
  },
  {
   "cell_type": "code",
   "execution_count": 71,
   "id": "51e00c11-f7b1-419c-9741-0af83932bb28",
   "metadata": {},
   "outputs": [
    {
     "data": {
      "text/html": [
       "<style>#sk-container-id-12 {color: black;}#sk-container-id-12 pre{padding: 0;}#sk-container-id-12 div.sk-toggleable {background-color: white;}#sk-container-id-12 label.sk-toggleable__label {cursor: pointer;display: block;width: 100%;margin-bottom: 0;padding: 0.3em;box-sizing: border-box;text-align: center;}#sk-container-id-12 label.sk-toggleable__label-arrow:before {content: \"▸\";float: left;margin-right: 0.25em;color: #696969;}#sk-container-id-12 label.sk-toggleable__label-arrow:hover:before {color: black;}#sk-container-id-12 div.sk-estimator:hover label.sk-toggleable__label-arrow:before {color: black;}#sk-container-id-12 div.sk-toggleable__content {max-height: 0;max-width: 0;overflow: hidden;text-align: left;background-color: #f0f8ff;}#sk-container-id-12 div.sk-toggleable__content pre {margin: 0.2em;color: black;border-radius: 0.25em;background-color: #f0f8ff;}#sk-container-id-12 input.sk-toggleable__control:checked~div.sk-toggleable__content {max-height: 200px;max-width: 100%;overflow: auto;}#sk-container-id-12 input.sk-toggleable__control:checked~label.sk-toggleable__label-arrow:before {content: \"▾\";}#sk-container-id-12 div.sk-estimator input.sk-toggleable__control:checked~label.sk-toggleable__label {background-color: #d4ebff;}#sk-container-id-12 div.sk-label input.sk-toggleable__control:checked~label.sk-toggleable__label {background-color: #d4ebff;}#sk-container-id-12 input.sk-hidden--visually {border: 0;clip: rect(1px 1px 1px 1px);clip: rect(1px, 1px, 1px, 1px);height: 1px;margin: -1px;overflow: hidden;padding: 0;position: absolute;width: 1px;}#sk-container-id-12 div.sk-estimator {font-family: monospace;background-color: #f0f8ff;border: 1px dotted black;border-radius: 0.25em;box-sizing: border-box;margin-bottom: 0.5em;}#sk-container-id-12 div.sk-estimator:hover {background-color: #d4ebff;}#sk-container-id-12 div.sk-parallel-item::after {content: \"\";width: 100%;border-bottom: 1px solid gray;flex-grow: 1;}#sk-container-id-12 div.sk-label:hover label.sk-toggleable__label {background-color: #d4ebff;}#sk-container-id-12 div.sk-serial::before {content: \"\";position: absolute;border-left: 1px solid gray;box-sizing: border-box;top: 0;bottom: 0;left: 50%;z-index: 0;}#sk-container-id-12 div.sk-serial {display: flex;flex-direction: column;align-items: center;background-color: white;padding-right: 0.2em;padding-left: 0.2em;position: relative;}#sk-container-id-12 div.sk-item {position: relative;z-index: 1;}#sk-container-id-12 div.sk-parallel {display: flex;align-items: stretch;justify-content: center;background-color: white;position: relative;}#sk-container-id-12 div.sk-item::before, #sk-container-id-12 div.sk-parallel-item::before {content: \"\";position: absolute;border-left: 1px solid gray;box-sizing: border-box;top: 0;bottom: 0;left: 50%;z-index: -1;}#sk-container-id-12 div.sk-parallel-item {display: flex;flex-direction: column;z-index: 1;position: relative;background-color: white;}#sk-container-id-12 div.sk-parallel-item:first-child::after {align-self: flex-end;width: 50%;}#sk-container-id-12 div.sk-parallel-item:last-child::after {align-self: flex-start;width: 50%;}#sk-container-id-12 div.sk-parallel-item:only-child::after {width: 0;}#sk-container-id-12 div.sk-dashed-wrapped {border: 1px dashed gray;margin: 0 0.4em 0.5em 0.4em;box-sizing: border-box;padding-bottom: 0.4em;background-color: white;}#sk-container-id-12 div.sk-label label {font-family: monospace;font-weight: bold;display: inline-block;line-height: 1.2em;}#sk-container-id-12 div.sk-label-container {text-align: center;}#sk-container-id-12 div.sk-container {/* jupyter's `normalize.less` sets `[hidden] { display: none; }` but bootstrap.min.css set `[hidden] { display: none !important; }` so we also need the `!important` here to be able to override the default hidden behavior on the sphinx rendered scikit-learn.org. See: https://github.com/scikit-learn/scikit-learn/issues/21755 */display: inline-block !important;position: relative;}#sk-container-id-12 div.sk-text-repr-fallback {display: none;}</style><div id=\"sk-container-id-12\" class=\"sk-top-container\"><div class=\"sk-text-repr-fallback\"><pre>LinearRegression()</pre><b>In a Jupyter environment, please rerun this cell to show the HTML representation or trust the notebook. <br />On GitHub, the HTML representation is unable to render, please try loading this page with nbviewer.org.</b></div><div class=\"sk-container\" hidden><div class=\"sk-item\"><div class=\"sk-estimator sk-toggleable\"><input class=\"sk-toggleable__control sk-hidden--visually\" id=\"sk-estimator-id-12\" type=\"checkbox\" checked><label for=\"sk-estimator-id-12\" class=\"sk-toggleable__label sk-toggleable__label-arrow\">LinearRegression</label><div class=\"sk-toggleable__content\"><pre>LinearRegression()</pre></div></div></div></div></div>"
      ],
      "text/plain": [
       "LinearRegression()"
      ]
     },
     "execution_count": 71,
     "metadata": {},
     "output_type": "execute_result"
    }
   ],
   "source": [
    "#Linear Regression model on train data\n",
    "lr = LinearRegression()\n",
    "lr.fit(scaled_X_train,y_train)"
   ]
  },
  {
   "cell_type": "code",
   "execution_count": 72,
   "id": "4753f729-8d10-458e-a3a5-82e3bd050786",
   "metadata": {},
   "outputs": [
    {
     "data": {
      "text/plain": [
       "(104833, 1)"
      ]
     },
     "execution_count": 72,
     "metadata": {},
     "output_type": "execute_result"
    }
   ],
   "source": [
    "predict = lr.predict(scaled_x_val)\n",
    "y_val.shape"
   ]
  },
  {
   "cell_type": "code",
   "execution_count": 73,
   "id": "7ba1d1b7-70fa-450f-bcec-a6b1d36f2e95",
   "metadata": {},
   "outputs": [
    {
     "name": "stdout",
     "output_type": "stream",
     "text": [
      "0.9999960377999586 0.0002549031336519415 9.785002527446483e-08\n"
     ]
    }
   ],
   "source": [
    "print(r2_score(y_val,predict),mean_absolute_error(y_val,predict), mean_squared_error(y_val,predict))"
   ]
  },
  {
   "cell_type": "code",
   "execution_count": 74,
   "id": "c9162ad0-7d1c-4360-ab79-8c3e3a421c01",
   "metadata": {},
   "outputs": [
    {
     "data": {
      "text/plain": [
       "array([[ 1.56836431e-01, -9.26347679e-17,  3.60499684e-16,\n",
       "        -8.17469749e-17, -1.84351087e-16, -3.54189252e-16,\n",
       "         1.45100029e-16, -3.61041954e-17]])"
      ]
     },
     "execution_count": 74,
     "metadata": {},
     "output_type": "execute_result"
    }
   ],
   "source": [
    "lr.coef_"
   ]
  },
  {
   "cell_type": "code",
   "execution_count": 76,
   "id": "cd137b22-d891-4fb7-9af8-7a0917489080",
   "metadata": {},
   "outputs": [],
   "source": [
    "final_predict = lr.predict(y_test)"
   ]
  },
  {
   "cell_type": "code",
   "execution_count": 78,
   "id": "f933d3bb-d72f-4360-9be4-b0de1f5a48a6",
   "metadata": {},
   "outputs": [
    {
     "data": {
      "text/plain": [
       "array([0.41081985, 0.46374517, 0.68668575, ..., 0.56974304, 0.76451683,\n",
       "       0.82296766])"
      ]
     },
     "execution_count": 78,
     "metadata": {},
     "output_type": "execute_result"
    }
   ],
   "source": [
    "final_predict.flatten()"
   ]
  },
  {
   "cell_type": "markdown",
   "id": "e18c1d0c-32d2-4a94-b3fe-7325dcea5f31",
   "metadata": {},
   "source": [
    "## Ridge Regression Model"
   ]
  },
  {
   "cell_type": "code",
   "execution_count": null,
   "id": "96b36959-5df4-46e8-827c-d98e3b300b64",
   "metadata": {},
   "outputs": [],
   "source": []
  },
  {
   "cell_type": "markdown",
   "id": "b5076e92-c8ed-4dca-a4ec-872a32aeb024",
   "metadata": {},
   "source": [
    "## Lasso Regression Model"
   ]
  },
  {
   "cell_type": "code",
   "execution_count": null,
   "id": "7cc22214-b2b0-46a0-978b-c8c5fcd56393",
   "metadata": {},
   "outputs": [],
   "source": []
  },
  {
   "cell_type": "markdown",
   "id": "c5ebbea8-143b-4547-9e54-2e69914e7f46",
   "metadata": {},
   "source": [
    "## KNN Regression Model"
   ]
  },
  {
   "cell_type": "code",
   "execution_count": null,
   "id": "36ad497d-b56a-433b-9c5f-d5f1fbf7b66e",
   "metadata": {},
   "outputs": [],
   "source": []
  },
  {
   "cell_type": "markdown",
   "id": "938d2fbb-4150-4978-be94-1fc0bed8ae21",
   "metadata": {},
   "source": [
    "## Suport Vector Regressor(SVR) Model"
   ]
  },
  {
   "cell_type": "code",
   "execution_count": null,
   "id": "bbd21137-81ca-4893-b824-3b9eb2f5de3b",
   "metadata": {},
   "outputs": [],
   "source": []
  },
  {
   "cell_type": "markdown",
   "id": "8b2d1c8f-5769-429c-8538-e8cc8fefb7f6",
   "metadata": {},
   "source": [
    "## Random Forest Regressor Model"
   ]
  },
  {
   "cell_type": "code",
   "execution_count": null,
   "id": "5b7df43b-4849-40ab-be18-8b4f6b6fb01a",
   "metadata": {},
   "outputs": [],
   "source": []
  },
  {
   "cell_type": "markdown",
   "id": "a306526f-786b-4c0a-a7d4-8df69dc8b85f",
   "metadata": {},
   "source": [
    "## XGBoost Regressor Model"
   ]
  },
  {
   "cell_type": "code",
   "execution_count": null,
   "id": "aa225143-4084-4a18-b6a3-a85f1f60cfd5",
   "metadata": {},
   "outputs": [],
   "source": []
  },
  {
   "cell_type": "markdown",
   "id": "3d1d9107-6473-484a-8107-d042cca15ae9",
   "metadata": {},
   "source": [
    "## Feed-Forward Neural Network Model"
   ]
  },
  {
   "cell_type": "code",
   "execution_count": null,
   "id": "4ab37cd3-aa72-4deb-980f-ce2fd91001ee",
   "metadata": {},
   "outputs": [],
   "source": []
  },
  {
   "cell_type": "markdown",
   "id": "de35888b-66e2-4684-a324-93a2b4c6a60d",
   "metadata": {},
   "source": [
    "## Convolutional Neural Network Model "
   ]
  },
  {
   "cell_type": "code",
   "execution_count": null,
   "id": "83d60e78-41b0-4bcb-80ce-df580d068b52",
   "metadata": {},
   "outputs": [],
   "source": []
  }
 ],
 "metadata": {
  "kernelspec": {
   "display_name": "Python 3 (ipykernel)",
   "language": "python",
   "name": "python3"
  },
  "language_info": {
   "codemirror_mode": {
    "name": "ipython",
    "version": 3
   },
   "file_extension": ".py",
   "mimetype": "text/x-python",
   "name": "python",
   "nbconvert_exporter": "python",
   "pygments_lexer": "ipython3",
   "version": "3.8.0"
  }
 },
 "nbformat": 4,
 "nbformat_minor": 5
}
